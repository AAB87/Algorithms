{
  "nbformat": 4,
  "nbformat_minor": 0,
  "metadata": {
    "colab": {
      "name": "AlgorithmsPractice.ipynb",
      "provenance": [],
      "collapsed_sections": []
    },
    "kernelspec": {
      "name": "python3",
      "display_name": "Python 3"
    },
    "language_info": {
      "name": "python"
    }
  },
  "cells": [
    {
      "cell_type": "markdown",
      "metadata": {
        "id": "vBj3k3EElfVz"
      },
      "source": [
        "## Practice"
      ]
    },
    {
      "cell_type": "markdown",
      "metadata": {
        "id": "_aCC9x8rqAIg"
      },
      "source": [
        "### Arrays and strings"
      ]
    },
    {
      "cell_type": "code",
      "metadata": {
        "colab": {
          "base_uri": "https://localhost:8080/"
        },
        "id": "sgmp-YLIlexA",
        "outputId": "f2678587-e30e-4bdd-bd26-1bc1b0a7f5b6"
      },
      "source": [
        "# 1.2\n",
        "def permutation(str1, str2):\n",
        "    if len(str1) != len(str2):\n",
        "        return False\n",
        "\n",
        "    sorted_str1 = sorted(str1)\n",
        "    sorted_str2 = sorted(str2)\n",
        "\n",
        "    if sorted_str1 == sorted_str2:\n",
        "        return True\n",
        "    \n",
        "    return False\n",
        "\n",
        "# Test 1\n",
        "str1 = 'perro'\n",
        "str2 = 'errop'\n",
        "\n",
        "print(permutation(str1, str2))\n",
        "\n",
        "# Test 2\n",
        "str1 = 'caca'\n",
        "str2 = 'casa'\n",
        "\n",
        "print(permutation(str1, str2))"
      ],
      "execution_count": 1,
      "outputs": [
        {
          "output_type": "stream",
          "text": [
            "True\n",
            "False\n"
          ],
          "name": "stdout"
        }
      ]
    },
    {
      "cell_type": "code",
      "metadata": {
        "colab": {
          "base_uri": "https://localhost:8080/"
        },
        "id": "IUiAdsEHnve7",
        "outputId": "d1218c65-5971-4cc0-ee4a-36ece3385c8b"
      },
      "source": [
        "# 1.3\n",
        "from functools import reduce\n",
        "\n",
        "def fill_spaces_in_sentence(sentence, true_length):\n",
        "    sentence_chars = list(map(lambda x: x, sentence))\n",
        "\n",
        "    i = true_length - 1\n",
        "    j = len(sentence_chars) - 1\n",
        "\n",
        "    while i > 0:\n",
        "        if sentence_chars[i] != ' ':\n",
        "            sentence_chars[j] = sentence_chars[i]\n",
        "            j -= 1\n",
        "        else:\n",
        "            sentence_chars[j - 2: j + 1] = ['%', '2', '0']\n",
        "            j -= 3\n",
        "\n",
        "        i -= 1\n",
        "    \n",
        "    processed_sentence = reduce(lambda x, y: x + y, sentence_chars)\n",
        "\n",
        "    return processed_sentence\n",
        "\n",
        "# Test 1\n",
        "true_length = 13\n",
        "sentence = 'hola caracola  '\n",
        "print(fill_spaces_in_sentence(sentence, true_length))\n",
        "\n",
        "# Test 2\n",
        "true_length = 19\n",
        "sentence = 'hola caracola pepsi cola      '\n",
        "print(fill_spaces_in_sentence(sentence, true_length))"
      ],
      "execution_count": 2,
      "outputs": [
        {
          "output_type": "stream",
          "text": [
            "hola%20caracola\n",
            "hola carola%20caracola%20pepsi\n"
          ],
          "name": "stdout"
        }
      ]
    },
    {
      "cell_type": "code",
      "metadata": {
        "colab": {
          "base_uri": "https://localhost:8080/"
        },
        "id": "jpTsms7sKKUY",
        "outputId": "2ca8e465-b5cb-4167-9928-c21ea5c62076"
      },
      "source": [
        "# 1.5\n",
        "def is_edited_string(str1, str2):\n",
        "    if str1 == str2: # zero changes\n",
        "        return True\n",
        "    if abs(len(str2) - len(str1)) > 1: # more than one insert / delete\n",
        "        return False\n",
        "    if len(str2) == len(str1): # only replacements have been applied\n",
        "        replacements = 0\n",
        "        for char1, char2 in zip(str1, str2):\n",
        "            if char1 != char2:\n",
        "                replacements += 1\n",
        "            if replacements > 1:\n",
        "                return False\n",
        "        return True\n",
        "    \n",
        "    # at least one insert / delete has been applied\n",
        "    i = 0\n",
        "    j = 0\n",
        "    modifications = 0\n",
        "    \n",
        "    if len(str2) > len(str1):\n",
        "        longest_string = str2\n",
        "        shortest_string = str1\n",
        "    else:\n",
        "        longest_string = str1\n",
        "        shortest_string = str2\n",
        "    while i < len(str2):\n",
        "        if longest_string[i] != shortest_string[j]:\n",
        "            modifications += 1\n",
        "            if modifications > 1:\n",
        "                return False\n",
        "        else:\n",
        "            j += 1\n",
        "        \n",
        "        i += 1\n",
        "    return True\n",
        "\n",
        "strings1 = ('pale', 'ple')\n",
        "strings2 = ('pales', 'pale')\n",
        "strings3 = ('pale', 'bale')\n",
        "strings4 = ('pale', 'bake')\n",
        "strings5 = ('pale', '')\n",
        "print(is_edited_string(strings1[0], strings1[1]))\n",
        "print(is_edited_string(strings2[0], strings2[1]))\n",
        "print(is_edited_string(strings3[0], strings3[1]))\n",
        "print(is_edited_string(strings4[0], strings4[1]))\n",
        "print(is_edited_string(strings5[0], strings5[1]))"
      ],
      "execution_count": 3,
      "outputs": [
        {
          "output_type": "stream",
          "text": [
            "True\n",
            "True\n",
            "True\n",
            "False\n",
            "False\n"
          ],
          "name": "stdout"
        }
      ]
    },
    {
      "cell_type": "code",
      "metadata": {
        "colab": {
          "base_uri": "https://localhost:8080/"
        },
        "id": "fjumSuQZaSm2",
        "outputId": "427580b6-58ee-498c-bb1b-e9c84a952a8b"
      },
      "source": [
        "# 1.6\n",
        "from functools import reduce\n",
        "\n",
        "def string_compression(string):\n",
        "    visited_char = string[0]\n",
        "    visited_char_count = 1\n",
        "    compressed_string = []\n",
        "    for char in string[1:]:\n",
        "        if char == visited_char:\n",
        "            visited_char_count += 1\n",
        "        else:\n",
        "            compressed_string.append(visited_char)\n",
        "            compressed_string.append(str(visited_char_count))\n",
        "\n",
        "            visited_char = char\n",
        "            visited_char_count = 1\n",
        "\n",
        "    compressed_string.append(visited_char)\n",
        "    compressed_string.append(str(visited_char_count))\n",
        "    \n",
        "    compressed_string = reduce(lambda x, y: x + y, compressed_string)\n",
        "\n",
        "    if len(compressed_string) >= len(string):\n",
        "        return string\n",
        "\n",
        "    return compressed_string\n",
        "\n",
        "string1 = 'aabcccccaaa'\n",
        "string2 = 'ABCD'\n",
        "print(string_compression(string1))\n",
        "print(string_compression(string2))\n"
      ],
      "execution_count": 4,
      "outputs": [
        {
          "output_type": "stream",
          "text": [
            "a2b1c5a3\n",
            "ABCD\n"
          ],
          "name": "stdout"
        }
      ]
    },
    {
      "cell_type": "code",
      "metadata": {
        "colab": {
          "base_uri": "https://localhost:8080/"
        },
        "id": "ePXPph8Hmly-",
        "outputId": "fd0c35da-4c1f-44a3-ddb7-aac76b6c701a"
      },
      "source": [
        "# 1.7\n",
        "def rotate_90_degrees(picture):\n",
        "    n = len(picture)\n",
        "\n",
        "    new_picture = [[] for i in range(n)]\n",
        "    print(new_picture)\n",
        "\n",
        "    for i in range(n):\n",
        "        j = n -1\n",
        "        while j >= 0:\n",
        "            new_picture[i].append(picture[j][i])\n",
        "\n",
        "            j -= 1\n",
        "    \n",
        "    return new_picture\n",
        "\n",
        "picture = [[1, 2, 3], [4, 5, 6], [7, 8, 9]]\n",
        "print(rotate_90_degrees(picture))"
      ],
      "execution_count": 5,
      "outputs": [
        {
          "output_type": "stream",
          "text": [
            "[[], [], []]\n",
            "[[7, 4, 1], [8, 5, 2], [9, 6, 3]]\n"
          ],
          "name": "stdout"
        }
      ]
    },
    {
      "cell_type": "code",
      "metadata": {
        "id": "Koq4oG2er8v-"
      },
      "source": [
        "# def rotate_90_degrees(picture):\n",
        "#     n = len(picture)\n",
        "#     print(picture)\n",
        "#     for i in range(n):\n",
        "#         print('\\n')\n",
        "#         print(i)\n",
        "#         j = 0\n",
        "#         k = n - 1\n",
        "#         while k >= 0:\n",
        "#             print(j, k)\n",
        "            \n",
        "#             p1 = picture[i].pop(j)\n",
        "#             p2 = picture[k].pop(i)\n",
        "#             print(p1, p2)\n",
        "#             picture[i].insert(j, p2)\n",
        "#             picture[k].insert(i, p1)\n",
        "\n",
        "#             print(picture)\n",
        "#             j += 1\n",
        "#             k -= 1\n",
        "    \n",
        "#     return picture\n",
        "\n",
        "# picture = [[1, 2, 3], [4, 5, 6], [7, 8, 9]]\n",
        "# print(rotate_90_degrees(picture))"
      ],
      "execution_count": 6,
      "outputs": []
    },
    {
      "cell_type": "markdown",
      "metadata": {
        "id": "93DEe-R0Y8mw"
      },
      "source": [
        "## Others"
      ]
    },
    {
      "cell_type": "markdown",
      "metadata": {
        "id": "5kwU64jUY_eC"
      },
      "source": [
        "1. Write a function to check that a string is parenthetically balanced. For example:\n",
        "  - `\"(bar)\"` - balanced\n",
        "  - `\"(()\"` - not balanced\n",
        "  - `\"(())(()\"` - not balanced\n",
        "  - `\")(\"` - not balanced"
      ]
    },
    {
      "cell_type": "code",
      "metadata": {
        "colab": {
          "base_uri": "https://localhost:8080/"
        },
        "id": "wdAG7TJpY-GU",
        "outputId": "bc0667f4-5b46-487f-ce3f-d6ef3d277639"
      },
      "source": [
        "def is_parenthetically_balanced(string):\n",
        "    checking_queue = []\n",
        "\n",
        "    parenthesis_rels = {\n",
        "        ')': '(',\n",
        "        ']': '['\n",
        "    }\n",
        "\n",
        "    for char in string:        \n",
        "        if (char == '[') or (char == '('):\n",
        "            checking_queue.append(char)\n",
        "        elif (char == ']') or (char == ')'):\n",
        "            if len(checking_queue) == 0:\n",
        "                return False\n",
        "            else:\n",
        "                char_to_remove = checking_queue.pop()\n",
        "                if parenthesis_rels[char] != char_to_remove:\n",
        "                    return False\n",
        "\n",
        "    if len(checking_queue) == 0:\n",
        "        return True\n",
        "    \n",
        "    return False\n",
        "\n",
        "str1 = \"(bar)\"\n",
        "str2 = \"(()\"\n",
        "str3 = \"(())(()\"\n",
        "str4 = \")(\"\n",
        "str5 = \"adasda[(])\"\n",
        "\n",
        "print(is_parenthetically_balanced(str1))\n",
        "print(is_parenthetically_balanced(str2))\n",
        "print(is_parenthetically_balanced(str3))\n",
        "print(is_parenthetically_balanced(str4))\n",
        "print(is_parenthetically_balanced(str5))"
      ],
      "execution_count": 7,
      "outputs": [
        {
          "output_type": "stream",
          "text": [
            "True\n",
            "False\n",
            "False\n",
            "False\n",
            "False\n"
          ],
          "name": "stdout"
        }
      ]
    },
    {
      "cell_type": "markdown",
      "metadata": {
        "id": "BB99FVapdhN6"
      },
      "source": [
        "2. Check if a string is a palindrome"
      ]
    },
    {
      "cell_type": "code",
      "metadata": {
        "id": "vm1KF_gQaTtu",
        "colab": {
          "base_uri": "https://localhost:8080/"
        },
        "outputId": "5ac1aa70-eeb2-4e4e-ce55-84ff5c921cb3"
      },
      "source": [
        "def is_palindrome(string):\n",
        "    i = 0\n",
        "    j = len(string) - 1\n",
        "\n",
        "    while i <= j:\n",
        "        if string[i] != string[j]:\n",
        "            return False\n",
        "\n",
        "        i += 1\n",
        "        j -= 1\n",
        "    \n",
        "    return True\n",
        "\n",
        "str1 = 'tenet'\n",
        "str2 = 'peep'\n",
        "str3 = 'pepe'\n",
        "\n",
        "print(is_palindrome(str1))\n",
        "print(is_palindrome(str2))\n",
        "print(is_palindrome(str3))"
      ],
      "execution_count": 8,
      "outputs": [
        {
          "output_type": "stream",
          "text": [
            "True\n",
            "True\n",
            "False\n"
          ],
          "name": "stdout"
        }
      ]
    },
    {
      "cell_type": "markdown",
      "metadata": {
        "id": "lUxJksdAMiEu"
      },
      "source": [
        "3. Check if a number is prime.\n",
        "\n",
        "If a number is divisible by a number smaller than its square root, then it is not prime\n",
        "\n",
        "Complexity: O(sqrt(N))"
      ]
    },
    {
      "cell_type": "code",
      "metadata": {
        "colab": {
          "base_uri": "https://localhost:8080/"
        },
        "id": "9qQKLq23NLBV",
        "outputId": "9c563d1e-9839-4a92-8e75-d506ae601c23"
      },
      "source": [
        "from math import sqrt\n",
        "\n",
        "def is_prime(n):\n",
        "    i = 2\n",
        "    while i <= sqrt(n):\n",
        "        if n % i == 0:\n",
        "            return False\n",
        "        i += 1\n",
        "\n",
        "    return True\n",
        "\n",
        "n1 = 0\n",
        "n2 = 1\n",
        "n3 = 2\n",
        "n4 = 3\n",
        "n5 = 11\n",
        "n6 = 20\n",
        "print(is_prime(n1))\n",
        "print(is_prime(n2))\n",
        "print(is_prime(n3))\n",
        "print(is_prime(n4))\n",
        "print(is_prime(n5))\n",
        "print(is_prime(n6))"
      ],
      "execution_count": 9,
      "outputs": [
        {
          "output_type": "stream",
          "text": [
            "True\n",
            "True\n",
            "True\n",
            "True\n",
            "True\n",
            "False\n"
          ],
          "name": "stdout"
        }
      ]
    },
    {
      "cell_type": "markdown",
      "metadata": {
        "id": "BewJEdI-QSTO"
      },
      "source": [
        "## HackerRank"
      ]
    },
    {
      "cell_type": "markdown",
      "metadata": {
        "id": "F1KJ0xfsaGlP"
      },
      "source": [
        "### Arrays"
      ]
    },
    {
      "cell_type": "code",
      "metadata": {
        "colab": {
          "base_uri": "https://localhost:8080/"
        },
        "id": "UIy_wRnqQTty",
        "outputId": "bbf4d7ce-53cb-4a93-9c15-7314be3c6b05"
      },
      "source": [
        "def hourglass_sum(arr):\n",
        "    hourglass_size = 3\n",
        "\n",
        "    max_row_column = len(arr) - hourglass_size + 1\n",
        "\n",
        "    max_hourglass_sum = float(\"-inf\")\n",
        "\n",
        "    for i in range(max_row_column):\n",
        "        j = 0\n",
        "        while j < max_row_column:\n",
        "            hourglass_sum = 0\n",
        "            k = 0\n",
        "            while k < 3:\n",
        "                hourglass_sum += arr[i][j + k]\n",
        "                hourglass_sum += arr[i + 2][j + k]\n",
        "                if k % 2 != 0:\n",
        "                    hourglass_sum += arr[i + 1][j + k]\n",
        "\n",
        "                k += 1\n",
        "            \n",
        "            j += 1\n",
        "\n",
        "            if hourglass_sum > max_hourglass_sum:\n",
        "                max_hourglass_sum = hourglass_sum\n",
        "    \n",
        "    return max_hourglass_sum\n",
        "        \n",
        "arr1 = [\n",
        "    [1, 1, 1, 0, 0, 0],\n",
        "    [0, 1, 0, 0, 0, 0],\n",
        "    [1, 1, 1, 0, 0, 0],\n",
        "    [0, 0, 2, 4, 4, 0],\n",
        "    [0, 0, 0, 2, 0, 0],\n",
        "    [0, 0, 1, 2, 4, 0]\n",
        "]\n",
        "\n",
        "arr2 = [\n",
        "    [-1, -1, 0, -9, -2, -2],\n",
        "    [-2, -1, -6, -8, -2, -5],\n",
        "    [-1, -1, -1, -2, -3, -4],\n",
        "    [-1, -9, -2, -4, -4, -5],\n",
        "    [-7, -3, -3, -2, -9, -9],\n",
        "    [-1, -3, -1, -2, -4, -5]\n",
        "]\n",
        "\n",
        "print(hourglass_sum(arr1))\n",
        "print(hourglass_sum(arr2))"
      ],
      "execution_count": 10,
      "outputs": [
        {
          "output_type": "stream",
          "text": [
            "19\n",
            "-6\n"
          ],
          "name": "stdout"
        }
      ]
    },
    {
      "cell_type": "markdown",
      "metadata": {
        "id": "ULsT3LfXjmzF"
      },
      "source": [
        "### Sort"
      ]
    },
    {
      "cell_type": "code",
      "metadata": {
        "colab": {
          "base_uri": "https://localhost:8080/"
        },
        "id": "_AvXX0riUXuH",
        "outputId": "1184e0d0-5283-4456-fdd1-3572458b9ffb"
      },
      "source": [
        "def count_swaps(a):\n",
        "    swaps = 0\n",
        "    for i in range(len(a)):\n",
        "        swaps_in_iteration = 0\n",
        "        for j in range(len(a) - 1):\n",
        "            if a[j] > a[j + 1]:\n",
        "                el1 = a.pop(j)\n",
        "                a.insert(j + 1, el1)\n",
        "                swaps_in_iteration += 1\n",
        "                swaps += 1\n",
        "        \n",
        "        if swaps_in_iteration == 0:\n",
        "            return f'Array is sorted in {swaps} swaps.\\nFirst Element: {a[0]}\\nLast Element: {a[-1]}'\n",
        "            \n",
        "a1 = [3, 2, 1]\n",
        "a2 = [1, 2, 3]\n",
        "a3 = [4, 2, 3, 1]\n",
        "print(count_swaps(a1))\n",
        "print(count_swaps(a2))\n",
        "print(count_swaps(a3))"
      ],
      "execution_count": 11,
      "outputs": [
        {
          "output_type": "stream",
          "text": [
            "Array is sorted in 3 swaps.\n",
            "First Element: 1\n",
            "Last Element: 3\n",
            "Array is sorted in 0 swaps.\n",
            "First Element: 1\n",
            "Last Element: 3\n",
            "Array is sorted in 5 swaps.\n",
            "First Element: 1\n",
            "Last Element: 4\n"
          ],
          "name": "stdout"
        }
      ]
    }
  ]
}